{
 "cells": [
  {
   "cell_type": "code",
   "execution_count": 143,
   "id": "281e2b0d",
   "metadata": {},
   "outputs": [],
   "source": [
    "import pandas as pd\n",
    "import numpy as np\n",
    "import datetime\n",
    "import random\n"
   ]
  },
  {
   "cell_type": "code",
   "execution_count": 179,
   "id": "54f05ec1",
   "metadata": {},
   "outputs": [],
   "source": [
    "data = pd.read_csv(\"new.csv\")"
   ]
  },
  {
   "cell_type": "code",
   "execution_count": 180,
   "id": "53bb2f0c",
   "metadata": {},
   "outputs": [
    {
     "name": "stdout",
     "output_type": "stream",
     "text": [
      "   Sl no     Name  gender  age  salary  spend\n",
      "0      1     Alif    Male   21   10000   8000\n",
      "1      2    Rafik    Male   26   15000  10000\n",
      "2      3  Sumaiya  Female   25   18000  15000\n",
      "3      4     blif    Male   28   19000  14000\n",
      "4      5    Kafik    Male   26   20000  18000\n"
     ]
    }
   ],
   "source": [
    "print(data.head())"
   ]
  },
  {
   "cell_type": "code",
   "execution_count": 146,
   "id": "c287060a",
   "metadata": {},
   "outputs": [
    {
     "name": "stdout",
     "output_type": "stream",
     "text": [
      "0      Male\n",
      "1      Male\n",
      "2    Female\n",
      "3      Male\n",
      "4      Male\n",
      "5    Female\n",
      "Name: gender, dtype: object\n"
     ]
    }
   ],
   "source": [
    "print (data['gender'])"
   ]
  },
  {
   "cell_type": "code",
   "execution_count": 147,
   "id": "466b1d14",
   "metadata": {},
   "outputs": [
    {
     "name": "stdout",
     "output_type": "stream",
     "text": [
      "No of Male is : 4\n",
      "No of Female is : 2\n"
     ]
    }
   ],
   "source": [
    "print(f\"No of Male is : {len(data[data['gender'] == 'Male'])}\")\n",
    "print(f\"No of Female is : {len(data[data['gender'] == 'Female'])}\")"
   ]
  },
  {
   "cell_type": "code",
   "execution_count": 149,
   "id": "42b8018c",
   "metadata": {},
   "outputs": [
    {
     "name": "stdout",
     "output_type": "stream",
     "text": [
      "The max age is:  36\n",
      "The min age is:  21\n"
     ]
    }
   ],
   "source": [
    "print(\"The max age is: \",data ['age'][data['age'].idxmax()])\n",
    "print(\"The min age is: \",data ['age'][data['age'].idxmin()])"
   ]
  },
  {
   "cell_type": "code",
   "execution_count": 176,
   "id": "089e3170",
   "metadata": {},
   "outputs": [
    {
     "name": "stdout",
     "output_type": "stream",
     "text": [
      "The age of 21-26 are \n",
      "  0    21\n",
      "1    26\n",
      "2    25\n",
      "4    26\n",
      "Name: age, dtype: int64\n"
     ]
    }
   ],
   "source": [
    "print(\"The age of 21-26 are \\n \",data ['age'][data['age'].between(21,26)])"
   ]
  },
  {
   "cell_type": "code",
   "execution_count": 183,
   "id": "e9049901",
   "metadata": {},
   "outputs": [
    {
     "data": {
      "text/html": [
       "<div>\n",
       "<style scoped>\n",
       "    .dataframe tbody tr th:only-of-type {\n",
       "        vertical-align: middle;\n",
       "    }\n",
       "\n",
       "    .dataframe tbody tr th {\n",
       "        vertical-align: top;\n",
       "    }\n",
       "\n",
       "    .dataframe thead th {\n",
       "        text-align: right;\n",
       "    }\n",
       "</style>\n",
       "<table border=\"1\" class=\"dataframe\">\n",
       "  <thead>\n",
       "    <tr style=\"text-align: right;\">\n",
       "      <th></th>\n",
       "      <th>Sl no</th>\n",
       "      <th>Name</th>\n",
       "      <th>gender</th>\n",
       "      <th>age</th>\n",
       "      <th>salary</th>\n",
       "      <th>spend</th>\n",
       "    </tr>\n",
       "  </thead>\n",
       "  <tbody>\n",
       "    <tr>\n",
       "      <th>0</th>\n",
       "      <td>1</td>\n",
       "      <td>Alif</td>\n",
       "      <td>Male</td>\n",
       "      <td>21</td>\n",
       "      <td>10000</td>\n",
       "      <td>8000</td>\n",
       "    </tr>\n",
       "    <tr>\n",
       "      <th>1</th>\n",
       "      <td>2</td>\n",
       "      <td>Rafik</td>\n",
       "      <td>Male</td>\n",
       "      <td>26</td>\n",
       "      <td>15000</td>\n",
       "      <td>10000</td>\n",
       "    </tr>\n",
       "    <tr>\n",
       "      <th>2</th>\n",
       "      <td>3</td>\n",
       "      <td>Sumaiya</td>\n",
       "      <td>Female</td>\n",
       "      <td>25</td>\n",
       "      <td>18000</td>\n",
       "      <td>15000</td>\n",
       "    </tr>\n",
       "    <tr>\n",
       "      <th>3</th>\n",
       "      <td>4</td>\n",
       "      <td>blif</td>\n",
       "      <td>Male</td>\n",
       "      <td>28</td>\n",
       "      <td>19000</td>\n",
       "      <td>14000</td>\n",
       "    </tr>\n",
       "    <tr>\n",
       "      <th>4</th>\n",
       "      <td>5</td>\n",
       "      <td>Kafik</td>\n",
       "      <td>Male</td>\n",
       "      <td>26</td>\n",
       "      <td>20000</td>\n",
       "      <td>18000</td>\n",
       "    </tr>\n",
       "  </tbody>\n",
       "</table>\n",
       "</div>"
      ],
      "text/plain": [
       "   Sl no     Name  gender  age  salary  spend\n",
       "0      1     Alif    Male   21   10000   8000\n",
       "1      2    Rafik    Male   26   15000  10000\n",
       "2      3  Sumaiya  Female   25   18000  15000\n",
       "3      4     blif    Male   28   19000  14000\n",
       "4      5    Kafik    Male   26   20000  18000"
      ]
     },
     "execution_count": 183,
     "metadata": {},
     "output_type": "execute_result"
    }
   ],
   "source": [
    "data.head()"
   ]
  },
  {
   "cell_type": "code",
   "execution_count": 187,
   "id": "dfc91273",
   "metadata": {},
   "outputs": [
    {
     "name": "stdout",
     "output_type": "stream",
     "text": [
      "0    1.250000\n",
      "1    1.500000\n",
      "2    1.200000\n",
      "3    1.357143\n",
      "4    1.111111\n",
      "5    1.136364\n",
      "dtype: float64\n"
     ]
    }
   ],
   "source": [
    "data['gender']\n",
    "salary_ratio = data['salary']/ data['spend']\n",
    "print(salary_ratio)\n"
   ]
  },
  {
   "cell_type": "code",
   "execution_count": 204,
   "id": "dc71aea2",
   "metadata": {},
   "outputs": [
    {
     "name": "stdout",
     "output_type": "stream",
     "text": [
      "Salary Ratio of Male is :  0      Male\n",
      "1      Male\n",
      "2    Female\n",
      "3      Male\n",
      "4      Male\n",
      "5    Female\n",
      "Name: gender, dtype: object\n"
     ]
    }
   ],
   "source": [
    "print(\"Salary Ratio of Male is : \",data['gender'])"
   ]
  }
 ],
 "metadata": {
  "kernelspec": {
   "display_name": "Python 3 (ipykernel)",
   "language": "python",
   "name": "python3"
  },
  "language_info": {
   "codemirror_mode": {
    "name": "ipython",
    "version": 3
   },
   "file_extension": ".py",
   "mimetype": "text/x-python",
   "name": "python",
   "nbconvert_exporter": "python",
   "pygments_lexer": "ipython3",
   "version": "3.11.2"
  }
 },
 "nbformat": 4,
 "nbformat_minor": 5
}
